{
 "cells": [
  {
   "cell_type": "markdown",
   "metadata": {},
   "source": [
    "# Part 1\n",
    "\n",
    " Create a new Jupyter notebook called 'SEDS-HW3.ipynb' and finish the in class excersize of creating a functionalized block of code to compute the pairwise correlation between rows in a pandas data frame.  Use Markdown between cells to document your work.  Be sure to use docstrings for all of your functions.  _Hint / requirement_ You should have three functions.  One for the whole entity `pairwise_correlation`, one for comparing two rows `corr_rowi_rowj`, and one for comparing one row to all the other rows `corr_rowi_vs_all`."
   ]
  },
  {
   "cell_type": "markdown",
   "metadata": {},
   "source": [
    "#### Here is the pseudo code to formulate the idea. "
   ]
  },
  {
   "cell_type": "markdown",
   "metadata": {},
   "source": [
    "def pairwise_correlation:\n",
    "\n",
    "create empty correlation_matrix\n",
    "for row_i in dataframe\n",
    "    for row_i compare to all rows in dataframe\n",
    "        compute correlation of row_i to row_j\n",
    "        save correlation to correlation_matrix\n",
    "return correlation_matrix\n",
    "return"
   ]
  },
  {
   "cell_type": "markdown",
   "metadata": {},
   "source": [
    "#### Imports are listed here"
   ]
  },
  {
   "cell_type": "code",
   "execution_count": 1,
   "metadata": {},
   "outputs": [],
   "source": [
    "import pandas as pd\n",
    "import numpy as np"
   ]
  },
  {
   "cell_type": "markdown",
   "metadata": {},
   "source": [
    "#### First we will create the sample dataframe"
   ]
  },
  {
   "cell_type": "code",
   "execution_count": 25,
   "metadata": {},
   "outputs": [
    {
     "data": {
      "text/html": [
       "<div>\n",
       "<style scoped>\n",
       "    .dataframe tbody tr th:only-of-type {\n",
       "        vertical-align: middle;\n",
       "    }\n",
       "\n",
       "    .dataframe tbody tr th {\n",
       "        vertical-align: top;\n",
       "    }\n",
       "\n",
       "    .dataframe thead th {\n",
       "        text-align: right;\n",
       "    }\n",
       "</style>\n",
       "<table border=\"1\" class=\"dataframe\">\n",
       "  <thead>\n",
       "    <tr style=\"text-align: right;\">\n",
       "      <th></th>\n",
       "      <th>v1</th>\n",
       "      <th>v2</th>\n",
       "      <th>v3</th>\n",
       "    </tr>\n",
       "  </thead>\n",
       "  <tbody>\n",
       "    <tr>\n",
       "      <th>A</th>\n",
       "      <td>-1.0</td>\n",
       "      <td>0</td>\n",
       "      <td>1.0</td>\n",
       "    </tr>\n",
       "    <tr>\n",
       "      <th>B</th>\n",
       "      <td>1.0</td>\n",
       "      <td>0</td>\n",
       "      <td>-1.0</td>\n",
       "    </tr>\n",
       "    <tr>\n",
       "      <th>C</th>\n",
       "      <td>0.5</td>\n",
       "      <td>0</td>\n",
       "      <td>0.5</td>\n",
       "    </tr>\n",
       "  </tbody>\n",
       "</table>\n",
       "</div>"
      ],
      "text/plain": [
       "    v1  v2   v3\n",
       "A -1.0   0  1.0\n",
       "B  1.0   0 -1.0\n",
       "C  0.5   0  0.5"
      ]
     },
     "execution_count": 25,
     "metadata": {},
     "output_type": "execute_result"
    }
   ],
   "source": [
    "df = pd.DataFrame([[-1, 0, 1], [1, 0, -1], [.5, 0, .5]], index = ['A', 'B', 'C'], columns = ['v1', 'v2', 'v3'])\n",
    "\n",
    "df"
   ]
  },
  {
   "cell_type": "markdown",
   "metadata": {},
   "source": [
    "#### We need to create three seperate functions that will all work together to solve the idea outlined in the pseudo code. The first function will serve the purpose of comparing one row i, to another row, j, and computing the correlation of those two. "
   ]
  },
  {
   "cell_type": "code",
   "execution_count": 46,
   "metadata": {},
   "outputs": [],
   "source": [
    "#compute correlation of row_i to row_j\n",
    "\n",
    "def corr_row_i_row_j(row_i, row_j):\n",
    "    \"\"\"This function will compute the correlation between one row, i, and a second row, j\"\"\"\n",
    "    return row_i.corr(row_j)"
   ]
  },
  {
   "cell_type": "code",
   "execution_count": 47,
   "metadata": {},
   "outputs": [
    {
     "data": {
      "text/plain": [
       "-1.0"
      ]
     },
     "execution_count": 47,
     "metadata": {},
     "output_type": "execute_result"
    }
   ],
   "source": [
    "#quick test, the correlation of row A to B should be -1\n",
    "\n",
    "corr_row_i_row_j(df.loc['A'], df.loc['B'])"
   ]
  },
  {
   "cell_type": "markdown",
   "metadata": {},
   "source": [
    "#### This next function will then include the function above to compare the row, i, to every row in the dataframe and compute the correlation for each one. While we hav'nt creted it yet, this fucntion will also save the correlations to our correlation matrix, labeled as corr_matrix"
   ]
  },
  {
   "cell_type": "code",
   "execution_count": 85,
   "metadata": {},
   "outputs": [],
   "source": [
    "#for row_i compare to all rows in dataframe\n",
    "\n",
    "def corr_row_i_vs_all(df, index_i, row_i, corr_matrix):\n",
    "    \"\"\"This function, after having specified a row, i, will compute the correlation matrix between row i\n",
    "    and every other row in the dataframe\"\"\"\n",
    "    for index_j, row_j in df.iterrows():# pd.itterows will itterate over every row in the dataframe\n",
    "        corr_matrix.loc[index_i, index_j] = corr_row_i_row_j(row_i, row_j) #computes correlation and saves to matrix\n",
    "        corr_matrix.loc[index_j, index_i] = corr_matrix.loc[index_i, index_j]\n",
    "    return\n",
    "\n"
   ]
  },
  {
   "cell_type": "markdown",
   "metadata": {},
   "source": [
    "#### Now we will create the main function, which creates the emtpy correlation matrix, calls every row in the dataframe, and uses the two previous functions to compute the correlation matrix between every other row. Finally, it will return the filled correlation matrix."
   ]
  },
  {
   "cell_type": "code",
   "execution_count": 86,
   "metadata": {},
   "outputs": [],
   "source": [
    "def pairwise_correlation(df):\n",
    "    \"\"\"This function will create an empty correlation matrix and itterate over every row to compute the correlation \n",
    "    against every row, and return the filled correlation matrix with the results.\"\"\"\n",
    "    corr_matrix = pd.DataFrame()\n",
    "    for index_i, row_i in df.iterrows():\n",
    "        corr_row_i_vs_all(df, index_i, row_i, corr_matrix)\n",
    "    return corr_matrix"
   ]
  },
  {
   "cell_type": "markdown",
   "metadata": {},
   "source": [
    "#### Now this should give us the entire correlation matrix for the dataframe"
   ]
  },
  {
   "cell_type": "code",
   "execution_count": 87,
   "metadata": {},
   "outputs": [
    {
     "data": {
      "text/html": [
       "<div>\n",
       "<style scoped>\n",
       "    .dataframe tbody tr th:only-of-type {\n",
       "        vertical-align: middle;\n",
       "    }\n",
       "\n",
       "    .dataframe tbody tr th {\n",
       "        vertical-align: top;\n",
       "    }\n",
       "\n",
       "    .dataframe thead th {\n",
       "        text-align: right;\n",
       "    }\n",
       "</style>\n",
       "<table border=\"1\" class=\"dataframe\">\n",
       "  <thead>\n",
       "    <tr style=\"text-align: right;\">\n",
       "      <th></th>\n",
       "      <th>A</th>\n",
       "      <th>B</th>\n",
       "      <th>C</th>\n",
       "    </tr>\n",
       "  </thead>\n",
       "  <tbody>\n",
       "    <tr>\n",
       "      <th>A</th>\n",
       "      <td>1.0</td>\n",
       "      <td>-1.0</td>\n",
       "      <td>0.0</td>\n",
       "    </tr>\n",
       "    <tr>\n",
       "      <th>B</th>\n",
       "      <td>-1.0</td>\n",
       "      <td>1.0</td>\n",
       "      <td>0.0</td>\n",
       "    </tr>\n",
       "    <tr>\n",
       "      <th>C</th>\n",
       "      <td>0.0</td>\n",
       "      <td>0.0</td>\n",
       "      <td>1.0</td>\n",
       "    </tr>\n",
       "  </tbody>\n",
       "</table>\n",
       "</div>"
      ],
      "text/plain": [
       "     A    B    C\n",
       "A  1.0 -1.0  0.0\n",
       "B -1.0  1.0  0.0\n",
       "C  0.0  0.0  1.0"
      ]
     },
     "execution_count": 87,
     "metadata": {},
     "output_type": "execute_result"
    }
   ],
   "source": [
    "pairwise_correlation(df)"
   ]
  },
  {
   "cell_type": "markdown",
   "metadata": {},
   "source": [
    "# Part 2:\n",
    "\n",
    "The three fucntions were moved to df_utils.py, and imported into this notebook below."
   ]
  },
  {
   "cell_type": "code",
   "execution_count": 91,
   "metadata": {},
   "outputs": [],
   "source": [
    "import df_utils"
   ]
  },
  {
   "cell_type": "markdown",
   "metadata": {},
   "source": [
    "# Part 3 and 4\n",
    "\n",
    "For each function, create cell with _assert_ statements that tests various aspects of your function, including handling oddball inputs, expected outputs (size, shape and values).  Try to have at least three tests per function.\n",
    "\n",
    "Convert the cells to unit test functions and save them to `test_df_utils.py`.  _Hint_ Don't forget to name the functions with the ``test_`` prefix!"
   ]
  },
  {
   "cell_type": "markdown",
   "metadata": {},
   "source": [
    "Similar to the example in the notebook, we will first create a test function for corr_row_i_row_j. As noted, it is probably not very useful to have a test for this function, as it only calls on another well documented and assumingly well maintained pandas function. Nevertheless, it is a good intro excercise and leads into tackling unit tests for the other more compelx functions."
   ]
  },
  {
   "cell_type": "code",
   "execution_count": 96,
   "metadata": {},
   "outputs": [],
   "source": [
    "def test_corr_row_i_row_j():\n",
    "    \"\"\"This is a test function for corr_row_i_row_j\"\"\"\n",
    "    #introducing the dataframe \n",
    "    df = pd.DataFrame([[-1, 0, 1], [1, 0, -1], [.5, 0, .5]], index = ['A', 'B', 'C'], columns = ['v1', 'v2', 'v3'])\n",
    "    #assert statements\n",
    "    assert int(df_utils.corr_row_i_row_j(df.loc['A'], df.loc['A'])) == 1 #value of correlation for row A to A should be 1\n",
    "    assert int(df_utils.corr_row_i_row_j(df.loc['A'], df.loc['B'])) == -1 #value of correlation for row A to B should be -1\n",
    "    assert int(df_utils.corr_row_i_row_j(df.loc['A'], df.loc['C'])) == 0 #value of correltion for row A to B should be 0\n",
    "    return"
   ]
  },
  {
   "cell_type": "markdown",
   "metadata": {},
   "source": [
    "Knowing what the value of the correlation between row A with the other rows, we asserted that the correlation function should return those values"
   ]
  },
  {
   "cell_type": "code",
   "execution_count": 97,
   "metadata": {},
   "outputs": [],
   "source": [
    "test_corr_row_i_row_j()"
   ]
  },
  {
   "cell_type": "markdown",
   "metadata": {},
   "source": [
    "Now we will create a unit test for the second function, corr_row_i_vs_all"
   ]
  },
  {
   "cell_type": "code",
   "execution_count": 168,
   "metadata": {},
   "outputs": [],
   "source": [
    "def test_corr_row_i_vs_all():\n",
    "    \"\"\"This is a test function for corr_row_i_vs_all\"\"\"\n",
    "    #introducing the dataframe \n",
    "    df = pd.DataFrame([[-1, 0, 1], [1, 0, -1], [.5, 0, .5]], index = ['A', 'B', 'C'], columns = ['v1', 'v2', 'v3'])\n",
    "    \n",
    "    #introducing empty correlation matrix\n",
    "    corr_matrix = pd.DataFrame()\n",
    "    \n",
    "    #Checking that dataframe has more than one row for pd.iterrows to function properly\n",
    "    assert len(df.index) > int(1), \"pd.iterrows cannot iterate because dataframe only has one row\" \n",
    "    \n",
    "    #Checking that all rows in correlation matrix get filled, without any NaN's.\n",
    "    df_utils.corr_row_i_vs_all(df, 'A', df.loc['A'], corr_matrix)\n",
    "    df_utils.corr_row_i_vs_all(df, 'B', df.loc['B'], corr_matrix)\n",
    "    df_utils.corr_row_i_vs_all(df, 'C', df.loc['C'], corr_matrix)\n",
    "    \n",
    "    assert df.isnull().values.any() == False,  \"null (NaN) values are present, not iterating correctly\"\n",
    "    \n",
    "   #Checking that the function is outputting the correct matrix symmetry\n",
    "    assert corr_matrix.at['A', 'B'] == corr_matrix.at['B', 'A'], \"The function is not outputting the correct symmetry\"\n",
    "    assert corr_matrix.at['B', 'C'] == corr_matrix.at['C', 'B'], \"The function is not outputting the correct symmetry\"\n",
    "    \n",
    "    return"
   ]
  },
  {
   "cell_type": "markdown",
   "metadata": {},
   "source": [
    "Here, we asserted that (assuming the dataframe passed is indeed a dataframe and isnt empty, which will be tested in the next function) the dataframe should have more than one row, because you can't really iterate over rows if you only have one row to iterate to. Of course you could still get the correlation of a single row to itself, but this will always be 1 and is trivial. Also, we asserted that all rows in the dataframe should be filled, but without any NaN's. I was actually having this issue while writing the original function, where the code would run but some rows had NaN's, so I thoguht this would be useful. Finally we asserted that row A column B in the correlation matrix should be the same as row B column A, and so forth. "
   ]
  },
  {
   "cell_type": "code",
   "execution_count": 169,
   "metadata": {},
   "outputs": [],
   "source": [
    "test_corr_row_i_vs_all()"
   ]
  },
  {
   "cell_type": "markdown",
   "metadata": {},
   "source": [
    "The final test function will be for pairwise_correlation"
   ]
  },
  {
   "cell_type": "code",
   "execution_count": 172,
   "metadata": {},
   "outputs": [],
   "source": [
    "def test_pairwise_correlation():\n",
    "    \"\"\"This is a test function for pairwise_correlation\"\"\"\n",
    "\n",
    "    #introducing the dataframe \n",
    "    df = pd.DataFrame([[-1, 0, 1], [1, 0, -1], [.5, 0, .5]], index = ['A', 'B', 'C'], columns = ['v1', 'v2', 'v3'])\n",
    "    \n",
    "    #introducing empty correlation matrix\n",
    "    corr_matrix = pd.DataFrame()\n",
    "    \n",
    "    #Checking that the dataframe and correaltion matrix passed are indeed dataframes, and not an integer, string, etc. \n",
    "    assert isinstance(df, pd.DataFrame), \"Data is not part of a dataframe\" \n",
    "    assert isinstance(corr_matrix, pd.DataFrame), \"correlation matrix is not part of a dataframe\"\n",
    "    \n",
    "    #Checking that the datarame passed is not empty, for example, if one mixed up labeling of the dataframe and corr_matrix\n",
    "    assert df.empty == False, \"Dataframe is empty\" \n",
    "    \n",
    "    #Checking that the correlation matrix is empty, so the correlations computed by the fucntion can be saved in the matrix.\n",
    "    assert corr_matrix.empty == True, \"Correlation matrix needs to be empty to correctly save the computations\"\n",
    "    \n",
    "    #Checking that dataframe has more than one row for pd.iterrows to function properly\n",
    "    assert len(df.index) > int(1), \"pd.iterrows cannot iterate because dataframe only has one row\" \n",
    "    \n",
    "    return"
   ]
  },
  {
   "cell_type": "markdown",
   "metadata": {},
   "source": [
    "Above, we asserted that the data and correlation matrix passed are dataframes. We asserted that the dataframe for the data should not be empty, however the correlation amtrix dataframe should be. We also once again asserted that the data in the dataframe should have multiple rows. "
   ]
  },
  {
   "cell_type": "code",
   "execution_count": 174,
   "metadata": {},
   "outputs": [],
   "source": [
    "test_pairwise_correlation()"
   ]
  },
  {
   "cell_type": "markdown",
   "metadata": {},
   "source": [
    "These test functions were copied and saved in `test_df_utils.py`"
   ]
  },
  {
   "cell_type": "markdown",
   "metadata": {},
   "source": [
    "# Part 5\n"
   ]
  },
  {
   "cell_type": "markdown",
   "metadata": {},
   "source": [
    "These unit tests were ran with `nosetests` at the command line and the output pasted to the README file (Also pasted here below)"
   ]
  },
  {
   "cell_type": "markdown",
   "metadata": {},
   "source": [
    "```Ran 3 tests in 0.685s```\n",
    "\n",
    " ```OK```"
   ]
  },
  {
   "cell_type": "code",
   "execution_count": null,
   "metadata": {},
   "outputs": [],
   "source": []
  }
 ],
 "metadata": {
  "kernelspec": {
   "display_name": "Python 3",
   "language": "python",
   "name": "python3"
  },
  "language_info": {
   "codemirror_mode": {
    "name": "ipython",
    "version": 3
   },
   "file_extension": ".py",
   "mimetype": "text/x-python",
   "name": "python",
   "nbconvert_exporter": "python",
   "pygments_lexer": "ipython3",
   "version": "3.7.1"
  }
 },
 "nbformat": 4,
 "nbformat_minor": 2
}
